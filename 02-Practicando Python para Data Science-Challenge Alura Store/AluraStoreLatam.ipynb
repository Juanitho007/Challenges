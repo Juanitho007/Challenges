{
  "cells": [
    {
      "cell_type": "markdown",
      "metadata": {
        "id": "RhEdWd9YUR6H"
      },
      "source": [
        "### Importación de datos\n",
        "\n"
      ]
    },
    {
      "cell_type": "code",
      "execution_count": null,
      "metadata": {
        "colab": {
          "base_uri": "https://localhost:8080/",
          "height": 206
        },
        "id": "T3EvaeQ_INIL",
        "outputId": "e9c5efe1-82a3-43ab-e8d7-6d01e4fa3514"
      },
      "outputs": [],
      "source": [
        "import polars as pl\n",
        "\"\"\"Decidí utilizar polars en lugar de pandas a fin de optimizar el tiempo de respuesta\"\"\"\n",
        "\n",
        "url = \"https://raw.githubusercontent.com/alura-es-cursos/challenge1-data-science-latam/refs/heads/main/base-de-datos-challenge1-latam/tienda_1%20.csv\"\n",
        "url2 = \"https://raw.githubusercontent.com/alura-es-cursos/challenge1-data-science-latam/refs/heads/main/base-de-datos-challenge1-latam/tienda_2.csv\"\n",
        "url3 = \"https://raw.githubusercontent.com/alura-es-cursos/challenge1-data-science-latam/refs/heads/main/base-de-datos-challenge1-latam/tienda_3.csv\"\n",
        "url4 = \"https://raw.githubusercontent.com/alura-es-cursos/challenge1-data-science-latam/refs/heads/main/base-de-datos-challenge1-latam/tienda_4.csv\"\n",
        "\n",
        "tienda1 = pl.read_csv(url)\n",
        "tienda2 = pl.read_csv(url2)\n",
        "tienda3 = pl.read_csv(url3)\n",
        "tienda4 = pl.read_csv(url4)\n",
        "\n",
        "tienda1.head()"
      ]
    },
    {
      "cell_type": "markdown",
      "metadata": {
        "id": "X62IW3KFUIYm"
      },
      "source": [
        "# 1. Análisis de facturación\n",
        "\n"
      ]
    },
    {
      "cell_type": "code",
      "execution_count": null,
      "metadata": {
        "id": "xykobSftV64I"
      },
      "outputs": [],
      "source": [
        "\"\"\" Usando funciones nativas \"\"\"\n",
        "ingresos = [sum(t['Precio']) for t in [tienda1, tienda2, tienda3, tienda4]]\n",
        "print(ingresos)"
      ]
    },
    {
      "cell_type": "code",
      "execution_count": null,
      "metadata": {
        "id": "KDyr8E71V3m-"
      },
      "outputs": [],
      "source": [
        "\"\"\" Forma alternativa directamente en el df \"\"\"\n",
        "ingresos = [df[\"Precio\"].sum() for df in [tienda1, tienda2, tienda3, tienda4]]\n",
        "print(ingresos)"
      ]
    },
    {
      "cell_type": "markdown",
      "metadata": {
        "id": "2V_vcAPzWZmR"
      },
      "source": [
        "# 2. Ventas por categoría"
      ]
    },
    {
      "cell_type": "code",
      "execution_count": null,
      "metadata": {
        "id": "A34YupIuYhfF"
      },
      "outputs": [],
      "source": [
        "from typing import List, Tuple\n",
        "\n",
        "\"\"\" Usando funciones nativas \"\"\"\n",
        "def ventas_tienda(tiendas: List[pl.DataFrame]) -> List[Tuple]:\n",
        "    categorias = set(cat for tienda in tiendas for cat in tienda[\"Categoría del Producto\"].to_list())\n",
        "    resultados = [[\"Categoría\"] + [f\"Tienda_{i}\" for i in range(1, len(tiendas)+1)]]\n",
        "    resultados += [[cat] + [tienda[\"Categoría del Producto\"].to_list().count(cat) for tienda in tiendas] for cat in categorias]\n",
        "    return resultados\n",
        "    \n",
        "print(ventas_tienda([tienda1, tienda2, tienda3, tienda4]))"
      ]
    },
    {
      "cell_type": "code",
      "execution_count": null,
      "metadata": {
        "id": "yZR6cOjXYSk1"
      },
      "outputs": [],
      "source": [
        "\"\"\" Forma alternativa directamente con DF \"\"\"\n",
        "from typing import List\n",
        "def ventas_tienda(tiendas: List[pl.DataFrame]) -> pl.DataFrame:\n",
        "    resultados = []\n",
        "    resultados_top = []\n",
        "    for i, tienda in enumerate(tiendas, 1):\n",
        "        df = tienda.group_by(\"Categoría del Producto\").agg([pl.len().alias(f\"Tienda {i}\")])\n",
        "        resultados.append(df)\n",
        "        resultados_top.append(df.sort(f\"Tienda {i}\", descending=True).head(3))\n",
        "    resultados = pl.concat(resultados, how=\"align\")\n",
        "    resultados_top = pl.concat(resultados_top, how =\"align\")\n",
        "    return resultados,resultados_top\n",
        "\n",
        "print(ventas_tienda([tienda1, tienda2, tienda3, tienda4]))"
      ]
    },
    {
      "cell_type": "markdown",
      "metadata": {
        "id": "Rq6tU_xSY3jk"
      },
      "source": [
        "# 3. Calificación promedio de la tienda\n"
      ]
    },
    {
      "cell_type": "code",
      "execution_count": null,
      "metadata": {
        "id": "bh3jjjJwY5MU"
      },
      "outputs": [],
      "source": [
        "\"\"\" Usando funciones nativas \"\"\"\n",
        "from typing import List\n",
        "def promedio(tienda:List[pl.DataFrame] ) -> List[float]:\n",
        "    calificacion=tienda[\"Calificación\"].to_list()\n",
        "    return round(sum(calificacion)/len(calificacion),2)\n",
        "print([promedio(tienda1),promedio(tienda2),promedio(tienda3),promedio(tienda4)])"
      ]
    },
    {
      "cell_type": "code",
      "execution_count": null,
      "metadata": {
        "id": "I0KkjPoTY88F"
      },
      "outputs": [],
      "source": [
        "\"\"\" Forma alternativa directamente con DF \"\"\"\n",
        "from typing import List\n",
        "def promedio(tienda: pl.DataFrame) ->  List[float]:\n",
        "    return round(tienda[\"Calificación\"].mean(), 2)\n",
        "\n",
        "print([promedio(t) for t in [tienda1, tienda2, tienda3, tienda4]])"
      ]
    },
    {
      "cell_type": "markdown",
      "metadata": {
        "id": "DmNp1KPBZCm-"
      },
      "source": [
        "# 4. Productos más y menos vendidos"
      ]
    },
    {
      "cell_type": "code",
      "execution_count": null,
      "metadata": {
        "id": "qoyjqijQZHfF"
      },
      "outputs": [],
      "source": [
        "\"\"\" Usando funciones nativas \"\"\"\n",
        "from typing import List\n",
        "def productos(tiendas:List[pl.DataFrame] ) -> str:\n",
        "    productos = set(producto for tienda in tiendas for producto in tienda[\"Producto\"].to_list())\n",
        "    data = [[producto] + [tienda[\"Producto\"].to_list().count(producto) for tienda in tiendas] for producto in productos]\n",
        "    resumen = []\n",
        "    for i in range(len(tiendas)):\n",
        "        tienda_id = f\"Tienda_{i+1}\"\n",
        "        productos_ordenados = sorted(data, key=lambda x: (-x[i+1],x[0]))\n",
        "        max = productos_ordenados[0]\n",
        "        min = productos_ordenados[-1]\n",
        "        resumen.append(f\"{tienda_id}: más vendido : {max[0]} ({max[i+1]} ventas), menos vendido : {min[0]} ({min[i+1]} ventas)\")\n",
        "    resultados = \"Los productos más y menos vendidos por tienda son:\\n\" + \"\\n\".join(resumen)\n",
        "    return resultados\n",
        "\n",
        "print(productos([tienda1, tienda2, tienda3, tienda4]))"
      ]
    },
    {
      "cell_type": "code",
      "execution_count": null,
      "metadata": {
        "id": "0Sw3sd4IZIGW"
      },
      "outputs": [],
      "source": [
        "\"\"\" Forma alternativa directamente con DF \"\"\"\n",
        "from typing import List\n",
        "def productos(tiendas: List[pl.DataFrame]) -> str:\n",
        "    resultados = []\n",
        "    for i, tienda in enumerate(tiendas, 1):\n",
        "        df = tienda.group_by(\"Producto\").agg([pl.len().alias(f\"Tienda {i}\")]).sort(by=[f\"Tienda {i}\", \"Producto\"], descending=[True, False])\n",
        "        resultados.append(f\"Tienda {i} - más vendido: {df[0][\"Producto\"][0]} ({df[0][f\"Tienda {i}\"][0]} ventas), menos vendido: {df[-1][\"Producto\"][0]} ({df[-1][f\"Tienda {i}\"][0]} ventas)\")\n",
        "    return \"\\n\".join(resultados)\n",
        "\n",
        "print(productos([tienda1,tienda2,tienda3,tienda4]))\n"
      ]
    },
    {
      "cell_type": "markdown",
      "metadata": {
        "id": "Fl0cGi3bZKqU"
      },
      "source": [
        "# 5. Envío promedio por tienda"
      ]
    },
    {
      "cell_type": "code",
      "execution_count": null,
      "metadata": {
        "id": "S2JeaCykZNy9"
      },
      "outputs": [],
      "source": [
        "\"\"\" Usando funciones nativas \"\"\"\n",
        "from typing import List\n",
        "def promedio(tienda:pl.DataFrame ) -> List[float]:\n",
        "    envio = tienda[\"Costo de envío\"].to_list()\n",
        "    return round(sum(envio)/len(envio),2)\n",
        "print([promedio(tienda1),promedio(tienda2),promedio(tienda3),promedio(tienda4)])"
      ]
    },
    {
      "cell_type": "code",
      "execution_count": null,
      "metadata": {
        "id": "0tSdCie9ZQlt"
      },
      "outputs": [],
      "source": [
        "\"\"\" Forma alternativa directamente con DF \"\"\"\n",
        "def promedio(tienda: pl.DataFrame) ->  List[float]:\n",
        "    return round(tienda[\"Costo de envío\"].mean(), 2)\n",
        "\n",
        "print([promedio(t) for t in [tienda1, tienda2, tienda3, tienda4]])"
      ]
    },
    {
      "cell_type": "markdown",
      "metadata": {},
      "source": [
        "# 6. Generando Gráfico\n"
      ]
    },
    {
      "cell_type": "code",
      "execution_count": null,
      "metadata": {},
      "outputs": [],
      "source": [
        "\"\"\" Gráfico análisis de facturación \"\"\"\n",
        "import plotly.express as px\n",
        "from typing import List\n",
        "ingresos = [df[\"Precio\"].sum() for df in [tienda1, tienda2, tienda3, tienda4]]\n",
        "tiendas = [\"Tienda 1\", \"Tienda 2\", \"Tienda 3\", \"Tienda 4\"]\n",
        "df_ingresos = pl.DataFrame({\n",
        "    \"Tiendas\": tiendas,\n",
        "    \"Ingresos\": ingresos\n",
        "})\n",
        "fig = px.scatter(\n",
        "    df_ingresos,\n",
        "    x='Tiendas',\n",
        "    y='Ingresos',\n",
        "    color='Tiendas',\n",
        "    title=\"Ingresos por Tienda\",\n",
        "    labels={'Tiendas': '', 'Ingresos': 'Ingresos'},\n",
        "    hover_data=['Tiendas', 'Ingresos'],\n",
        "    color_discrete_sequence=px.colors.qualitative.Set1\n",
        ")\n",
        "\n",
        "fig.update_layout(\n",
        "    xaxis=dict(tickmode='array', tickvals=[0, 1, 2, 3], ticktext=[]),\n",
        "    showlegend=False, \n",
        ")\n",
        "fig.show()"
      ]
    },
    {
      "cell_type": "code",
      "execution_count": null,
      "metadata": {},
      "outputs": [],
      "source": [
        "import plotly.express as px\n",
        "from typing import List\n",
        "def ventas_tienda(tiendas: List[pl.DataFrame]) -> pl.DataFrame:\n",
        "    resultados = []\n",
        "    for i, tienda in enumerate(tiendas, 1):\n",
        "        df = tienda.group_by(\"Categoría del Producto\").agg([pl.len().alias(f\"Tienda {i}\")])\n",
        "        resultados.append(df)\n",
        "    resultados = pl.concat(resultados, how=\"align\")\n",
        "    return resultados\n",
        "\n",
        "df_ventas = ventas_tienda([tienda1, tienda2, tienda3, tienda4])\n",
        "\n",
        "df_ventas_pd = df_ventas.unpivot(\n",
        "    index=\"Categoría del Producto\",\n",
        "    variable_name=\"Tienda\",\n",
        "    value_name=\"Cantidad Vendida\"\n",
        ")\n",
        "\n",
        "fig = px.bar(\n",
        "    df_ventas_pd,\n",
        "    x=\"Tienda\",\n",
        "    y=\"Cantidad Vendida\",\n",
        "    color=\"Tienda\",\n",
        "    facet_col=\"Categoría del Producto\",\n",
        "    facet_col_wrap=4, \n",
        "    facet_row_spacing=0.1, \n",
        "    title=\"Cantidad Vendida por Categoría\",\n",
        ")\n",
        "\n",
        "fig.update_layout(\n",
        "    height=400,\n",
        "    showlegend=False,\n",
        "    margin=dict(t=50, b=30),\n",
        ")\n",
        "fig.for_each_xaxis(lambda x: x.update(title=None, showticklabels=False))\n",
        "fig.for_each_yaxis(lambda y: y.update(title=None, showticklabels=False))\n",
        "fig.for_each_annotation(lambda a: a.update(text=a.text.split(\"=\")[-1]))\n",
        "\n",
        "\n",
        "fig.show()"
      ]
    },
    {
      "cell_type": "code",
      "execution_count": null,
      "metadata": {},
      "outputs": [],
      "source": [
        "\"\"\" Gráfico ventas por categoría \"\"\"\n",
        "import plotly.express as px\n",
        "from typing import List\n",
        "def promedio(tienda: pl.DataFrame) ->  List[float]:\n",
        "    return round(tienda[\"Calificación\"].mean(), 2)\n",
        "\n",
        "calificacion= [promedio(t) for t in [tienda1, tienda2, tienda3, tienda4]]\n",
        "tiendas = [\"Tienda 1\", \"Tienda 2\", \"Tienda 3\", \"Tienda 4\"]\n",
        "df_Calificacion = pl.DataFrame({\n",
        "    \"Tiendas\": tiendas,\n",
        "    \"Calificacion\": calificacion\n",
        "})\n",
        "fig = px.scatter(\n",
        "    df_Calificacion,\n",
        "    x='Tiendas',\n",
        "    y='Calificacion',\n",
        "    color='Tiendas',\n",
        "    title=\"Calificación por Tienda\",\n",
        "    labels={'Tiendas': '', 'Calificacion': 'Promedio de Calificación'},\n",
        "    hover_data=['Tiendas', 'Calificacion'],\n",
        "    color_discrete_sequence=px.colors.qualitative.Set1\n",
        ")\n",
        "\n",
        "fig.update_layout(\n",
        "    xaxis=dict(tickmode='array', tickvals=[0, 1, 2, 3], ticktext=[]),\n",
        "    showlegend=False, \n",
        ")\n",
        "fig.show()\n"
      ]
    },
    {
      "cell_type": "markdown",
      "metadata": {},
      "source": [
        "# 7. Análisis final\n",
        "\n",
        "Con base en los análisis realizados y los gráficos generados, es momento de sintetizar sus hallazgos en un informe final. Dentro de tu Colab, deberás redactar un texto explicando a qué tienda debe vender el Sr. Juan, teniendo en cuenta todos los factores analizados, como:\n",
        "\n",
        "Los ingresos totales de las tiendas.\n",
        "\n",
        "Las categorías de productos más y menos vendidas.\n",
        "\n",
        "Las calificaciones promedio de los clientes por tienda.\n",
        "\n",
        "Los productos más y menos vendidos.\n",
        "\n",
        "El coste de envío promedio para cada tienda.\n",
        "\n",
        "El propósito del análisis es mediante los datos presentados mostrar cuales son las fortalezas y debilidades de cada tienda, hablando de la primera tienda ha generado una venta de $1,150,880,400.00 (Un mil ciento cincuenta millones ochocientos ochenta mil cuatrocientos pesos) lo que la posiciona en el primer lugar, repuntando en el área de Muebles y Electrónicos, sin embargo tiene una calificacion promedio de 3.98 lo que la posciona en el último lugar.\n",
        "Hablando de la segunda tienda ha generado una venta de $1,116,343,500.00 (Un mil ciento dieciseis millones trescientos cuarenta y tres mil quinientos pesos) lo que la posiciona en el segundo lugar, repuntando en el área de Muebles y Electrónicos, sin embargo tiene una calificacion promedio de 4.04 lo que la posciona en el segundo lugar.\n",
        "Hablando de la tercera tienda ha generado una venta de $1,098,019,600.00 (Un mil noventa y ocho millones diecinueve mil seiscientos pesos) lo que la posiciona en el tercer lugar, repuntando en el área de Muebles y Electrónicos, sin embargo tiene una calificacion promedio de 4.05 lo que la posciona en el primer lugar.\n",
        "Hablando de la cuarta tienda ha generado una venta de $1,038,375,700.00 (Un mil treinta y ocho millones trescientos setenta y cinco mil setecientos pesos) lo que la posiciona en el último lugar, repuntando en el área de Muebles y Electrónicos, sin embargo tiene una calificacion promedio de 4.00 lo que la posciona en el tercer lugar.\n",
        "\n",
        "Despues de todo el análisis podemos concluir que el departamento que más vende en todas las tiendas es el de Muebles y como segundo lugar el de Electrónicos, y que la tienda 4 no es tan viable mantenerla ya que aunque tiene una calificación de 4.00 lo que la posiciona en el tercer lugar, sin embargo lo que genera en ventas la posiciona en último lugar, y en el caso de la primera sigue siendo mas redituable aunque su calificación sea la mas baja de 3.98."
      ]
    },
    {
      "cell_type": "markdown",
      "metadata": {},
      "source": [
        "# 8. Extra\n",
        "Esta actividad es un extra, por lo tanto es OPCIONAL.\n",
        "\n",
        "En este extra, tendrás el desafío de explorar las coordenadas geográficas de los datos de ventas e identificar patrones relacionados con la ubicación de las compras. Al utilizar las columnas de latitud y longitud, puede generar visualizaciones para comprender cómo varían las ventas según la ubicación geográfica.\n",
        "\n",
        "Desafío:\n",
        "\n",
        "Utilice los datos de latitud (lat) y longitud (lon) para mapear las ventas de cada tienda y analizar la distribución geográfica de los productos vendidos.\n",
        "\n",
        "Genere gráficos de dispersión o mapas de calor (Heatmaps) para visualizar datos e identificar áreas con la mayor concentración de ventas.\n",
        "\n",
        "Explore si algunas tiendas tienen un rendimiento superior o inferior al esperado en determinadas regiones e identifique si existen patrones geográficos que puedan influir en el rendimiento de las tiendas."
      ]
    },
    {
      "cell_type": "code",
      "execution_count": null,
      "metadata": {},
      "outputs": [],
      "source": [
        "import plotly.graph_objects as go\n",
        "tiendas = [tienda1, tienda2, tienda3, tienda4]\n",
        "colores_tienda = ['red', 'blue', 'green', 'purple']\n",
        "\n",
        "fig = go.Figure()\n",
        "\n",
        "for i, tienda in enumerate(tiendas):\n",
        "    fig.add_trace(go.Scattergeo(\n",
        "        lat=tienda['lat'], \n",
        "        lon=tienda['lon'], \n",
        "        text=tienda['Producto'], \n",
        "        marker=dict(size=10, color=colores_tienda[i]),\n",
        "        name = f\"Tienda {i+1}\"\n",
        "    ))\n",
        "fig.update_layout(\n",
        "    title='Mapa de Tiendas',\n",
        "    geo=dict(\n",
        "        scope='world',\n",
        "        projection_type='natural earth',\n",
        "        showland=True,\n",
        "        landcolor='lightgray',\n",
        "        subunitcolor='white'\n",
        "    )\n",
        ")\n",
        "\n",
        "fig.show()"
      ]
    },
    {
      "cell_type": "code",
      "execution_count": null,
      "metadata": {},
      "outputs": [],
      "source": [
        "import plotly.express as px\n",
        "tiendas = [tienda1, tienda2, tienda3, tienda4]\n",
        "\n",
        "df_tiendas = pl.concat(tiendas)\n",
        "lats = df_tiendas['lat'].to_list()\n",
        "lons = df_tiendas['lon'].to_list()\n",
        "fig = px.density_map(\n",
        "    lat=lats,\n",
        "    lon=lons,\n",
        "    z=[1]*len(df_tiendas),\n",
        "    radius=10,\n",
        "    zoom=1,\n",
        "    title=\"Mapa de Calor de Tiendas\"\n",
        ")\n",
        "fig.update_layout(\n",
        "    autosize=True,\n",
        "    margin=dict(l=10, r=10, t=40, b=10)\n",
        ")\n",
        "\n",
        "fig.show()"
      ]
    },
    {
      "cell_type": "code",
      "execution_count": null,
      "metadata": {},
      "outputs": [],
      "source": []
    }
  ],
  "metadata": {
    "colab": {
      "provenance": []
    },
    "kernelspec": {
      "display_name": "ONE",
      "language": "python",
      "name": "python3"
    },
    "language_info": {
      "codemirror_mode": {
        "name": "ipython",
        "version": 3
      },
      "file_extension": ".py",
      "mimetype": "text/x-python",
      "name": "python",
      "nbconvert_exporter": "python",
      "pygments_lexer": "ipython3",
      "version": "3.13.3"
    }
  },
  "nbformat": 4,
  "nbformat_minor": 0
}
